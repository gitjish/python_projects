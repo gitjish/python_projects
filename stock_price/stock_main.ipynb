{
 "cells": [
  {
   "cell_type": "code",
   "execution_count": null,
   "metadata": {},
   "outputs": [],
   "source": []
  }
 ],
 "metadata": {
  "kernelspec": {
   "display_name": "Python 3",
   "language": "python",
   "name": "python3"
  },
  "language_info": {
   "name": "python",
   "version": "3.10.11"
  },
  "orig_nbformat": 4,
  "vscode": {
   "interpreter": {
    "hash": "b453b1dad5014399f712c4bc3e03fa78ed30409780ca4df74f142c4d8ec97dd1"
   }
  }
 },
 "nbformat": 4,
 "nbformat_minor": 2
}
